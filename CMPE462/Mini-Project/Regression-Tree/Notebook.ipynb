{
 "cells": [
  {
   "cell_type": "markdown",
   "metadata": {},
   "source": [
    "<h1><center>CMPE 462 - Quiz 4&5 <br>Implementing a Regression Tree<br></center></h1>"
   ]
  },
  {
   "cell_type": "markdown",
   "metadata": {},
   "source": [
    "# Student Information"
   ]
  },
  {
   "cell_type": "markdown",
   "metadata": {},
   "source": [
    "**Name**: Baran Deniz Korkmaz\n",
    "\n",
    "**ID**: 2015400183\n",
    "\n",
    "**Department**: Computer Engineering"
   ]
  },
  {
   "cell_type": "markdown",
   "metadata": {},
   "source": [
    "# Imported Packages\n",
    "This section introduces the imported packages, as they are the initial requirements for the implementation."
   ]
  },
  {
   "cell_type": "code",
   "execution_count": 1,
   "metadata": {},
   "outputs": [],
   "source": [
    "import numpy as np\n",
    "from sklearn.datasets import load_boston\n",
    "import seaborn as sns\n",
    "import matplotlib.pyplot as plt\n",
    "from sklearn.metrics import r2_score\n",
    "import math"
   ]
  },
  {
   "cell_type": "markdown",
   "metadata": {},
   "source": [
    "# Auxiliary Resources\n",
    "This section contains the auxiliary functions that we utilize for the implementation."
   ]
  },
  {
   "cell_type": "markdown",
   "metadata": {},
   "source": [
    "# 1. Data Handling Resources\n",
    "This section introduces the auxiliary functions that we use to carry out data manipulations."
   ]
  },
  {
   "cell_type": "markdown",
   "metadata": {},
   "source": [
    "## a.form_data(X,Y):\n",
    "Description: Appends the column vector of Y into 2D X-matrix with respect to y-axis.\n",
    "\n",
    "Parameters:\n",
    "1. X: 2D Matrix\n",
    "2. Y: 1D Vector\n",
    "\n",
    "Return Values: \n",
    "1. result: 2D Matrix in form [X,Y]."
   ]
  },
  {
   "cell_type": "code",
   "execution_count": 2,
   "metadata": {},
   "outputs": [],
   "source": [
    "def form_data(X,Y):\n",
    "    X,Y = np.array(X),np.array(Y)\n",
    "    Y = Y.reshape(len(Y), 1)\n",
    "    return np.hstack((X, Y))"
   ]
  },
  {
   "cell_type": "markdown",
   "metadata": {},
   "source": [
    "## b.split_data(DATA):\n",
    "Description: Reverts the effect of form_data function defined above.\n",
    "\n",
    "Parameters:\n",
    "1. DATA: 2D Matrix\n",
    "\n",
    "Return Values: \n",
    "1. X: 2D Matrix without the rightmost column vector of DATA.\n",
    "2. Y: The rightmost column vector of DATA."
   ]
  },
  {
   "cell_type": "code",
   "execution_count": 3,
   "metadata": {},
   "outputs": [],
   "source": [
    "def split_data(DATA):\n",
    "    DATA = np.array(DATA)\n",
    "    x,y = list(),list()\n",
    "    for row in DATA:\n",
    "        x.append(row[:-1])\n",
    "        y.append(row[-1])\n",
    "    return np.array(x),np.array(y)"
   ]
  },
  {
   "cell_type": "markdown",
   "metadata": {},
   "source": [
    "## c.feature_unique_values(X):\n",
    "Description: Returns a dictionary where key values are the indices of column vectors, and the values are set of unique values within the column vector. The dictionary will later be used in splitting the nodes by all possible threshold values of corrresponding attributes.\n",
    "\n",
    "Parameters:\n",
    "1. X: 2D Matrix (Training Data)\n",
    "\n",
    "Return Values: \n",
    "1. dict: Dictionary"
   ]
  },
  {
   "cell_type": "code",
   "execution_count": 4,
   "metadata": {},
   "outputs": [],
   "source": [
    "def feature_unique_values(X):\n",
    "    dict = {}\n",
    "    for (i,row) in enumerate(X):\n",
    "        cur = []\n",
    "        for elem in row:\n",
    "            if elem not in cur:\n",
    "                cur.append(elem)\n",
    "        cur.sort()\n",
    "        dict[i] = cur\n",
    "    return dict"
   ]
  },
  {
   "cell_type": "markdown",
   "metadata": {},
   "source": [
    "## d.feature_index(FEATURE_NAMES):\n",
    "Description: Returns a dictionary where key values feature names and values are their corresponding indices in the transpose of training data. Notice that the transpose of training data will be in a form where its dimension is (number of features)x(number of samples). Therefore this dictionary will guide us through finding the index for corresponding feature in the transpose matrix. This will later be used in plotting and finding the unique values for a given feature.\n",
    "\n",
    "Parameters:\n",
    "1. FEATURE_NAMES: The list of feature names provided by Boston data set.\n",
    "\n",
    "Return Values: \n",
    "1. dict: Dictionary"
   ]
  },
  {
   "cell_type": "code",
   "execution_count": 5,
   "metadata": {},
   "outputs": [],
   "source": [
    "def feature_index(FEATURE_NAMES):\n",
    "    dict = {}\n",
    "    for (i,elem) in enumerate(FEATURE_NAMES):\n",
    "        dict[elem] = i\n",
    "    return dict"
   ]
  },
  {
   "cell_type": "markdown",
   "metadata": {},
   "source": [
    "# 2. Plotting Resources\n",
    "This section introduces the auxiliary functions that we use for plotting."
   ]
  },
  {
   "cell_type": "markdown",
   "metadata": {},
   "source": [
    "## a.plot_rss_v_threshold(rss_values,threshold_values,index,feature_labels):\n",
    "Description: Plots the rss versus threshold values for a given attribute.\n",
    "\n",
    "Parameters:\n",
    "1. rss_values: List of rss values for corresponding threshold values.\n",
    "2. threshold_values: List of threshold values.\n",
    "3. feature_labels: The list of feature labels."
   ]
  },
  {
   "cell_type": "code",
   "execution_count": 6,
   "metadata": {},
   "outputs": [],
   "source": [
    "def plot_rss_v_threshold(rss_values,threshold_values,index,feature_labels):\n",
    "    fig = plt.figure()\n",
    "    ax = plt.scatter(threshold_values, rss_values)\n",
    "    plt.xlabel(\"Threshold\")\n",
    "    plt.ylabel(\"RSS\")\n",
    "    plt.title(\"Rss vs Threshold Value for Feature {}\".format(feature_labels[index]))\n",
    "    plt.show()"
   ]
  },
  {
   "cell_type": "markdown",
   "metadata": {},
   "source": [
    "## b.autolabel(rects,ax):\n",
    "Description: Writes the y-values on top of each bar.\n",
    "\n",
    "Parameters:\n",
    "1. rects: Bars within the plot.\n",
    "2. ax: Plot.\n",
    "\n",
    "Reference:\n",
    "https://matplotlib.org/3.2.1/gallery/lines_bars_and_markers/barchart.html#sphx-glr-gallery-lines-bars-and-markers-barchart-py"
   ]
  },
  {
   "cell_type": "code",
   "execution_count": 7,
   "metadata": {},
   "outputs": [],
   "source": [
    "def autolabel(rects,ax):\n",
    "    for rect in rects:\n",
    "        height = rect.get_height()\n",
    "        ax.annotate('{}'.format(height),\n",
    "                    xy=(rect.get_x() + rect.get_width() / 2, height),\n",
    "                    xytext=(0, 3),  # 3 points vertical offset\n",
    "                    textcoords=\"offset points\",\n",
    "                    ha='center', va='bottom')"
   ]
  },
  {
   "cell_type": "markdown",
   "metadata": {},
   "source": [
    "## c.cross_validation_plot(depths,r2_scores,std_devs):\n",
    "Description: Plots the bar chart and table for reporting the cross validation results.\n",
    "\n",
    "Parameters:\n",
    "1. depths: List of depth levels.\n",
    "2. r2_scores: List of average r-squared values for corresponding depth levels.\n",
    "3. std_devs: List of standard deviaton of r-squared values for corresponding depth levels."
   ]
  },
  {
   "cell_type": "code",
   "execution_count": 8,
   "metadata": {},
   "outputs": [],
   "source": [
    "def cross_validation_plot(depths,r2_scores,std_devs):\n",
    "    #Rounding\n",
    "    r2_scores = [round(elem, 5) for elem in r2_scores]\n",
    "    std_devs = [round(elem, 5) for elem in std_devs]\n",
    "    x = np.arange(len(depths))\n",
    "    width = 0.2\n",
    "    fig, ax = plt.subplots(2)\n",
    "    plt.suptitle(\"Cross Validation: Mean and Std Dev of R-Squared vs Depth\")\n",
    "    rects1 = ax[0].bar(x - width / 2, r2_scores, width, label='Mean')\n",
    "    rects2 = ax[0].bar(x + width / 2, std_devs, width, label='Std Dev')\n",
    "    ax[0].set_ylabel('Mean and Std Dev of R-Squared')\n",
    "    ax[0].set_xlabel('Depth')\n",
    "    ax[0].set_xticks(x)\n",
    "    ax[0].set_xticklabels(depths)\n",
    "    ax[0].legend(loc='lower right')\n",
    "    autolabel(rects1, ax[0])\n",
    "    autolabel(rects2, ax[0])\n",
    "    data = list()\n",
    "    data.append(depths)\n",
    "    data.append(r2_scores)\n",
    "    data.append(std_devs)\n",
    "    rowlabel = (\"Depth\", \"Mean\", \"Std Dev\")\n",
    "    ax[1].axis('tight')\n",
    "    ax[1].axis('off')\n",
    "    table = ax[1].table(cellText=data, rowLabels=rowlabel, cellLoc='center', loc='center')\n",
    "    table.auto_set_font_size(False)\n",
    "    table.set_fontsize(10)\n",
    "    fig.tight_layout()\n",
    "    plt.show()"
   ]
  },
  {
   "cell_type": "markdown",
   "metadata": {},
   "source": [
    "## d.r2_plots(r2_training,r2_test,depths):\n",
    "Description: Plots the bar chart of r-squared values of class predictions for training and test data for corresponding depth levels.\n",
    "\n",
    "Parameters:\n",
    "1. r2_training: List of r-squared values for corresponding depth levels of class predictions for training data.\n",
    "2. r2_test: List of r-squared values for corresponding depth levels of class predictions for test data.\n",
    "3. depths: List of depth levels."
   ]
  },
  {
   "cell_type": "code",
   "execution_count": 9,
   "metadata": {},
   "outputs": [],
   "source": [
    "def r2_plots(r2_training,r2_test,depth):\n",
    "    #Rounding\n",
    "    r2_score_training = [round(elem, 5) for elem in r2_training]\n",
    "    r2_score_test = [round(elem, 5) for elem in r2_test]\n",
    "    x = np.arange(len(r2_training))  # the label locations\n",
    "    width = 0.2  # the width of the bars\n",
    "    fig, ax = plt.subplots()\n",
    "    rects1 = ax.bar(x - width / 2, r2_score_training, width, label='Training')\n",
    "    rects2 = ax.bar(x + width / 2, r2_score_test, width, label='Test')\n",
    "    if len(depth)==1:\n",
    "        ax.set_title('R-Squared Values (Depth={})'.format(depth[0]))\n",
    "    else:\n",
    "        ax.set_title('R-Squared vs Depth')\n",
    "    ax.set_ylabel('R-Squared Score')\n",
    "    ax.set_xlabel('Depth')\n",
    "    ax.set_xticks(x)\n",
    "    ax.set_xticklabels(depth)\n",
    "    ax.legend(loc='lower right')\n",
    "    autolabel(rects1, ax)\n",
    "    autolabel(rects2, ax)\n",
    "    fig.tight_layout()\n",
    "    plt.show()"
   ]
  },
  {
   "cell_type": "markdown",
   "metadata": {},
   "source": [
    "# 3. Decision Tree Resources\n",
    "This section introduces the auxiliary functions that we use for the construction of decision tree."
   ]
  },
  {
   "cell_type": "markdown",
   "metadata": {},
   "source": [
    "## a.rss(y_left,y_right)::\n",
    "Description: Returns the rss value of a given splitted class values.\n",
    "\n",
    "Parameters:\n",
    "1. y_left: Left split.\n",
    "2. y_right: Right split.\n",
    "\n",
    "Return Values:\n",
    "1. rss: Residual sum of squares."
   ]
  },
  {
   "cell_type": "code",
   "execution_count": 10,
   "metadata": {},
   "outputs": [],
   "source": [
    "def rss(y_left,y_right):\n",
    "    avg_left, avg_right = np.average(y_left),np.average(y_right)\n",
    "    rss = 0.0\n",
    "    for elem_left in y_left:\n",
    "        rss += math.pow(elem_left-avg_left,2)\n",
    "    for elem_right in y_right:\n",
    "        rss += math.pow(elem_right-avg_right,2)\n",
    "    return rss"
   ]
  },
  {
   "cell_type": "markdown",
   "metadata": {},
   "source": [
    "## b.split_feature_by_threshold(index,value,data_set):\n",
    "Description: Splits the given data set by an feature based on a value of threshold.\n",
    "\n",
    "Parameters:\n",
    "1. index: Index value of feature.\n",
    "2. value: Threshold value.\n",
    "3. data_set: 2D Matrix\n",
    "\n",
    "Implementation Details: For each data sample, if the feature value is less than or equal to a threshold value it will be appended into the left subset, otherwise into the right subset.\n",
    "\n",
    "Return Values:\n",
    "1. left: Matrix for left subset.\n",
    "2. right: Matrix for right subset."
   ]
  },
  {
   "cell_type": "code",
   "execution_count": 11,
   "metadata": {},
   "outputs": [],
   "source": [
    "def split_feature_by_threshold(index,value,data_set):\n",
    "    left,right = [],[]\n",
    "    for row in data_set:\n",
    "        if row[index] <= value:\n",
    "            left.append(row)\n",
    "        else:\n",
    "            right.append(row)\n",
    "    return np.array(left),np.array(right)"
   ]
  },
  {
   "cell_type": "markdown",
   "metadata": {},
   "source": [
    "## c.find_split_by_feature(index,data_set,enable_plot=False,feature_labels=None):\n",
    "Description: Finds the best split for a given feature for the data set.\n",
    "\n",
    "Parameters:\n",
    "1. index: Index value of feature (feature).\n",
    "2. data_set: 2D Matrix\n",
    "3. enable_plot: Parameter for reporting the rss vs threshold levels for a given feature. (By default=False)\n",
    "4. feature_labels: The list of feature labels (used in plotting). (By default=None)\n",
    "\n",
    "Implementation Details: For a given feature, the algorithm finds the best threshold and returns the required data for splitting the decision tree. If enable_plot is set to True, then the function plots the rss values for each possible threshold values for the feature.\n",
    "\n",
    "Return Values:\n",
    "1. b_threshold: Best threshold.\n",
    "2. b_rss: Best rss.\n",
    "3. b_left: Left subset when best threshold is used to split.\n",
    "4. b_right: Right subset when best threshold is used to split."
   ]
  },
  {
   "cell_type": "code",
   "execution_count": 12,
   "metadata": {},
   "outputs": [],
   "source": [
    "def find_split_by_feature(index,data_set,enable_plot=False,feature_labels=None):\n",
    "    b_threshold, b_rss, b_left, b_right = 0.0, float('inf'), None, None\n",
    "    xTrain, yTrain = split_data(data_set)\n",
    "    xTrain_T = np.transpose(xTrain)\n",
    "    threshold_candidates = feature_unique_values(xTrain_T)[index]\n",
    "    rss_values = []\n",
    "    thresholds = []\n",
    "    for threshold in threshold_candidates:\n",
    "        left,right = split_feature_by_threshold(index,threshold,data_set)\n",
    "        _,left_y = split_data(left)\n",
    "        _,right_y = split_data(right)\n",
    "        if len(left_y)==0 or len(right_y)==0:\n",
    "            continue\n",
    "        current_rss = rss(left_y,right_y)\n",
    "        thresholds.append(threshold)\n",
    "        rss_values.append(current_rss)\n",
    "        if current_rss < b_rss:\n",
    "            b_threshold , b_rss , b_left , b_right = threshold, current_rss, left, right\n",
    "    if enable_plot==True:\n",
    "        plot_rss_v_threshold(rss_values,thresholds,index,feature_labels)\n",
    "    return b_threshold, b_rss, b_left, b_right"
   ]
  },
  {
   "cell_type": "markdown",
   "metadata": {},
   "source": [
    "## d.split_node(data_set):\n",
    "Description: Splits the data set by finding the best feature by utilizing the auxiliary function describe above in (c).\n",
    "\n",
    "Parameters:\n",
    "1. data_set: 2D Matrix\n",
    "\n",
    "Implementation Details: For each feature in data set, the split_node function calls the function described in (c) and returns the final version of splitted node as dictionary. \n",
    "\n",
    "The dictionary holds the fields required for the node. These fields are described below:\n",
    "1. feature: The feature that the node is split by.\n",
    "2. threshold: The threshold value for the attribute.\n",
    "3. rss: The rss value for the best split.\n",
    "4. left: The left subset for the best split. (Data of left child)\n",
    "5. right: The right subset for the best split. (Data of right child)\n",
    "\n",
    "Return Values:\n",
    "1. dictionary: The dictionary that holds the fields of node that is split. The fields are described above."
   ]
  },
  {
   "cell_type": "code",
   "execution_count": 13,
   "metadata": {},
   "outputs": [],
   "source": [
    "def split_node(data_set):\n",
    "    b_feature, b_threshold, b_rss, b_left , b_right =0, 0.0, float('inf'), None, None\n",
    "    data_set = np.array(data_set)\n",
    "    for i in range(data_set.shape[1]-1):\n",
    "        cur_threshold, cur_rss,cur_left,cur_right = find_split_by_feature(i,data_set)\n",
    "        if cur_rss < b_rss:\n",
    "            b_feature, b_threshold, b_rss, b_left, b_right = i, cur_threshold, cur_rss, cur_left, cur_right\n",
    "    #print(\"Best split for current data set: feature: {}, Threshold: {}, RSS: {:.10}\".format(b_feature,b_threshold,b_rss))\n",
    "    return {'feature': b_feature,'threshold': b_threshold,'rss': b_rss,'left': b_left,'right': b_right}"
   ]
  },
  {
   "cell_type": "markdown",
   "metadata": {},
   "source": [
    "## e.set_leaf(data):\n",
    "Description: Returns the value of a node that will be set as a leaf in the decision tree.\n",
    "\n",
    "Parameters:\n",
    "1. data: 2D Matrix\n",
    "\n",
    "Return Values:\n",
    "1. value: The average of class values."
   ]
  },
  {
   "cell_type": "code",
   "execution_count": 14,
   "metadata": {},
   "outputs": [],
   "source": [
    "def set_leaf(data):\n",
    "    x,y = split_data(data)\n",
    "    return sum(y)/len(y)"
   ]
  },
  {
   "cell_type": "markdown",
   "metadata": {},
   "source": [
    "## f.split_tree(node, min_size, max_depth, current_depth):\n",
    "Description: Recursively splits the tree until max_depth or min_size for a given node is reached. min_size implies the number of data sample the node consists of. In the project, the min_size is set as 1 in function calls.\n",
    "\n",
    "Parameters:\n",
    "1. node: The dictionary that represents the node.\n",
    "2. min_size: Minimum number of samples that a node can have.\n",
    "3. max_depth: Maximum depth a node can reside.\n",
    "4. current_depth: Current depth level of a node."
   ]
  },
  {
   "cell_type": "code",
   "execution_count": 15,
   "metadata": {},
   "outputs": [],
   "source": [
    "def split_tree(node, min_size, max_depth, current_depth):\n",
    "    left_data = node['left']\n",
    "    right_data = node['right']\n",
    "    if current_depth==max_depth:\n",
    "        node['left'] = set_leaf(left_data)\n",
    "        node['right'] = set_leaf(right_data)\n",
    "        return\n",
    "    #left child\n",
    "    if len(node['left']) <= min_size:\n",
    "        node['left'] = set_leaf(left_data)\n",
    "    else:\n",
    "        node['left'] = split_node(left_data)\n",
    "        split_tree(node['left'],min_size,max_depth,current_depth+1)\n",
    "    #right child\n",
    "    if len(node['right']) <= min_size:\n",
    "        node['right'] = set_leaf(right_data)\n",
    "    else:\n",
    "        node['right'] = split_node(right_data)\n",
    "        split_tree(node['right'],min_size,max_depth,current_depth+1)"
   ]
  },
  {
   "cell_type": "markdown",
   "metadata": {},
   "source": [
    "## g.train_tree(training_data,min_size, max_depth):\n",
    "Description: Initiates the recursive split_tree (f) calls by constructing the root first.\n",
    "\n",
    "Parameters:\n",
    "1. training_data: 2D Matrix of Training Data (Data of Root)\n",
    "2. min_size: Minimum number of samples that a node can have.\n",
    "3. max_depth: Maximum depth a node can reside."
   ]
  },
  {
   "cell_type": "code",
   "execution_count": 16,
   "metadata": {},
   "outputs": [],
   "source": [
    "def train_tree(training_data,min_size, max_depth):\n",
    "    root = split_node(training_data)\n",
    "    split_tree(root,min_size,max_depth,1)\n",
    "    return root"
   ]
  },
  {
   "cell_type": "markdown",
   "metadata": {},
   "source": [
    "## h.cross_validation(data,s,depths):\n",
    "Description: Operates s-fold cross validation separately for the depth levels given in the list 'depths'.\n",
    "\n",
    "Parameters:\n",
    "1. data: 2D Matrix of Training Data\n",
    "2. s: Cross validation parameter for the number of folds.\n",
    "3. depths: List of depth levels.\n",
    "\n",
    "Implementation Details: Since we have a noisy data set, the cross validation function does not shuffle the data one more time by itself in order to avoid from any inconsistent r-squared scores in evaluation section. \n",
    "\n",
    "Return Values:\n",
    "1. b_depth: Best depth level obtained by the result of cross validation.\n",
    "2. mean_r2_scores: Mean of r-squared values for corresponding depth levels.\n",
    "3. std_r2_scores: Std dev of r-squared values for corresponding depth levels."
   ]
  },
  {
   "cell_type": "code",
   "execution_count": 17,
   "metadata": {},
   "outputs": [],
   "source": [
    "def cross_validation(data,s,depths):\n",
    "    folds = np.array_split(data,s)\n",
    "    training_data_list = []\n",
    "    b_depth, b_r2score = None, float('-inf')\n",
    "    for i in range(s):\n",
    "        training_data = []\n",
    "        for j in range(s):\n",
    "            if not j==i:\n",
    "                training_data += list(folds[j])\n",
    "        training_data_list.append(np.array(training_data))\n",
    "    mean_r2_scores = []\n",
    "    std_r2_scores = []\n",
    "    for depth in depths:\n",
    "        current_r2_scores = []\n",
    "        for i in range(s):\n",
    "            training_data = training_data_list[i]\n",
    "            test_data = folds[i]\n",
    "            _,y_test = split_data(test_data)\n",
    "            tree = train_tree(training_data,1,depth)\n",
    "            y_predict = predict(tree,test_data)\n",
    "            current_r2_score = r2_score(y_test,y_predict)\n",
    "            current_r2_scores.append(current_r2_score)\n",
    "        avg_r2_score = np.average(current_r2_scores)\n",
    "        if avg_r2_score>b_r2score:\n",
    "            b_depth = depth\n",
    "            b_r2score = avg_r2_score\n",
    "        mean_r2_scores.append(np.average(current_r2_scores))\n",
    "        std_r2_scores.append(np.std(current_r2_scores))\n",
    "    return b_depth,mean_r2_scores,std_r2_scores"
   ]
  },
  {
   "cell_type": "markdown",
   "metadata": {},
   "source": [
    "## i.predict_sample(node,sample):\n",
    "Description: Returns the prediction for one data sample. The value returned is the average value of class values of the leaf reached.\n",
    "\n",
    "Parameters:\n",
    "1. node: The dictionary that represents the current node.\n",
    "2. sample: Single data sample.\n",
    "\n",
    "Implementation Details: If the current node is an instance of dictionary, then it implies that the current node is not a leaf node. Therefore we recursively move towards the leaf by directing into left if the value of splitting feature in sample is less than or equal to the threshold, and by directing into right otherwise.\n",
    "\n",
    "Return Values:\n",
    "1. value: Prediction value. (type: Float)"
   ]
  },
  {
   "cell_type": "code",
   "execution_count": 18,
   "metadata": {},
   "outputs": [],
   "source": [
    "def predict_sample(node,sample):\n",
    "    if sample[node['feature']] <= node['threshold']:\n",
    "        if isinstance(node['left'], dict):\n",
    "            return predict_sample(node['left'], sample)\n",
    "        else:\n",
    "            return node['left']\n",
    "    else:\n",
    "        if isinstance(node['right'], dict):\n",
    "            return predict_sample(node['right'], sample)\n",
    "        else:\n",
    "            return node['right']"
   ]
  },
  {
   "cell_type": "markdown",
   "metadata": {},
   "source": [
    "## j.predict(root,data):\n",
    "Description: Initiates subsequent predict_sample (i) calls for single data samples within a data.\n",
    "\n",
    "Parameters:\n",
    "1. root: Root of tree.\n",
    "2. data: 2D Matrix\n",
    "\n",
    "Return Values:\n",
    "1. list: List of prediction values for the given data."
   ]
  },
  {
   "cell_type": "code",
   "execution_count": 19,
   "metadata": {},
   "outputs": [],
   "source": [
    "def predict(tree,data):\n",
    "    return [predict_sample(tree,sample) for sample in data]"
   ]
  },
  {
   "cell_type": "markdown",
   "metadata": {},
   "source": [
    "# Introduction\n",
    "Decision tree learning is one of the predictive modelling approaches used in statistics, data mining and machine learning. It uses a decision tree (as a predictive model) to go from observations about an item (represented in the branches) to conclusions about the item's target value (represented in the leaves). Regression trees are decision trees where the target variables can have continues values.\n",
    "The goal is to create a model that predicts the value of a target variable based on several input variables.\n",
    "\n",
    "In the project, we are asked to build regression trees by using the Boston data set and it consists of 3 parts which are stated below:\n",
    "1. Dataset\n",
    "2. Regression Tree\n",
    "3. Evaluation\n",
    "\n",
    "The auxiliary functions that form the core of implementations for the subsections are stated above explicitly in detail. Before moving further, please make sure you have analyzed carefully the auxiliary functions. To do so, we obtain not only modular and reusable implementation which form the fundamentals of a coding environment, but also provide a well-organized coding structure that provides reader an inductive observation."
   ]
  },
  {
   "cell_type": "markdown",
   "metadata": {},
   "source": [
    "## Task 1: Dataset "
   ]
  },
  {
   "cell_type": "markdown",
   "metadata": {},
   "source": [
    "We start by loading the data set and constructing training and test data by shuffling. The reason why we shuffle the data is the noisy character of nonshuffled version. By shuffling, we ensure that the samples are not distributed in an enormously non-uniform way which can lead to negative r-squared value for predictions of test data.\n",
    "\n",
    "Please beware that the seed value of '85' is picked by the analysis of subsequent runs for different seed values in range of [0,99]."
   ]
  },
  {
   "cell_type": "code",
   "execution_count": 20,
   "metadata": {},
   "outputs": [],
   "source": [
    "\"\"\"\n",
    "Initializing the necessary variables for the dataset.\n",
    "\"\"\"\n",
    "boston = load_boston()\n",
    "DATA = np.column_stack([boston['data'], boston['target']])\n",
    "np.random.seed(85)\n",
    "np.random.shuffle(DATA)\n",
    "xData, yData = DATA[:,:-1], DATA[:,-1]\n",
    "xTrain, yTrain = xData[:400], yData[:400]\n",
    "xTest, yTest = xData[400:], yData[400:]\n",
    "del xData, yData, DATA"
   ]
  },
  {
   "cell_type": "code",
   "execution_count": 21,
   "metadata": {},
   "outputs": [],
   "source": [
    "training_data = form_data(xTrain,yTrain)\n",
    "test_data = form_data(xTest,yTest)\n",
    "feature_labels = np.concatenate((boston['feature_names'],['Target']))\n",
    "feature_names = boston['feature_names']\n",
    "feature_index = feature_index(feature_names)"
   ]
  },
  {
   "cell_type": "markdown",
   "metadata": {},
   "source": [
    "Before going into the implementation of decision tree, as a thumb rule, we must conduct further analysis on the data we have. \n",
    "\n",
    "In the case of decision tree, the correlation between the attributes and the target variable constructs the core for the logic of decision tree, as we split our nodes accordingly. The analysis will also provide an insight about the features that will play key role in the splitting at most.\n",
    "\n",
    "Below, you can see a heatmap that visualizes the correlation coefficient matrix, which is $(N+1)x(N+1)$, where $N$ is the number of features in Boston dataset."
   ]
  },
  {
   "cell_type": "code",
   "execution_count": 22,
   "metadata": {},
   "outputs": [
    {
     "data": {
      "image/png": "[encoded data removed]",
      "text/plain": [
       "<Figure size 432x288 with 2 Axes>"
      ]
     },
     "metadata": {
      "needs_background": "light"
     },
     "output_type": "display_data"
    }
   ],
   "source": [
    "\"\"\"\n",
    "Plotting the heat map of correlation matrix that represents the correlations between the columns of entire data.\n",
    "\"\"\"\n",
    "corr_matrix = np.corrcoef(training_data.T)\n",
    "plt.figure()\n",
    "sns.heatmap(corr_matrix, vmin=-1, vmax=1, xticklabels=feature_labels,yticklabels=feature_labels)\n",
    "plt.show()"
   ]
  },
  {
   "cell_type": "markdown",
   "metadata": {},
   "source": [
    "By observing the color within the boxes, we can observe the features that are highly correlated (closer to 1 or -1), and lowly correlated (closer to 0) with target variable. We can say that while the features 'INDUS', 'RM', 'TAX', and  'LSTAT' obviously have high correlation with target variable, the features such as 'CHAS', 'DIS', and 'B' have low correlation."
   ]
  },
  {
   "cell_type": "markdown",
   "metadata": {},
   "source": [
    "## Task 2: Regression Tree\n"
   ]
  },
  {
   "cell_type": "markdown",
   "metadata": {},
   "source": [
    "### 2.1 Feature Analysis\n",
    "Let us make an introduction to the splitting criteria that we will use. The measure $RSS$ is computed as follows:\n",
    "\n",
    "$$RSS =\\sum_{\\text {left }}\\left(y_{i}-y_{L}^{*}\\right)^{2}+\\sum_{\\text {right }}\\left(y_{i}-y_{R}^{*}\\right)^{2}$$\n",
    "\n",
    "where $y_L^* and y_L^*$ are mean y-value of left and right nodes.\n",
    "\n",
    "Given that we have implemented the required functions that form the basis for the regression tree implementation, we can make our first observations about the insight that we have obtained by analyzing the dataset in `Task 1: Dataset`.\n",
    "\n",
    "Below, you can observe the rss vs threshold values used in split for the features selected. The first feature, labeled as 'B', is lowly correlated with the target variable, while the second feature, labeled as 'LSTAT', is highly correlated."
   ]
  },
  {
   "cell_type": "code",
   "execution_count": 23,
   "metadata": {},
   "outputs": [
    {
     "data": {
      "image/png": "[encoded data removed]",
      "text/plain": [
       "<Figure size 432x288 with 1 Axes>"
      ]
     },
     "metadata": {
      "needs_background": "light"
     },
     "output_type": "display_data"
    },
    {
     "data": {
      "image/png": "[encoded data removed]",
      "text/plain": [
       "<Figure size 432x288 with 1 Axes>"
      ]
     },
     "metadata": {
      "needs_background": "light"
     },
     "output_type": "display_data"
    }
   ],
   "source": [
    "\"\"\"\n",
    "Splitting the training data based on two predetermined features, then plotting the rss values by thresholds\n",
    "which is the set of all values in terms of given feature.\n",
    "\"\"\"\n",
    "_ = find_split_by_feature(feature_index['B'],training_data,True,feature_labels)\n",
    "_ = find_split_by_feature(feature_index['LSTAT'],training_data,True,feature_labels)"
   ]
  },
  {
   "cell_type": "markdown",
   "metadata": {},
   "source": [
    "We observe that the highly correlated feature ('LSTAT') can yield rss values that is much lower that the lowly correlated feature ('B') can.\n",
    "Second, we see that the range between rss values are much larger in highly correlated feature than lowly correlated feature.\n",
    "\n",
    "NOTE:\n",
    "* B: 1000(Bk - 0.63)^2 where Bk is the proportion of blacks by town\n",
    "* LSTAT: % lower status of the population"
   ]
  },
  {
   "cell_type": "markdown",
   "metadata": {},
   "source": [
    "### 2.2 & 2.3 Implementing Regression Tree\n",
    "The construction of regression tree is a recursive procedure that is stated below:\n",
    "1. Initialize the root that has the entire data set as data.\n",
    "2. Starting from the root, for each node, if the current depth level is not equal to maximum depth limit or the number samples are above the minimum size limit is:\n",
    "    2.1 Split the current node by finding the best feature and threshold that yields the best rss value.\n",
    "    2.2 Recursively split the left child.\n",
    "    2.3 Recursively split the right child.\n",
    "3. If the maximum depth level or minimum size limit is reached, convert the node into a leaf.\n",
    "\n",
    "In `Auxiliary Resources` section, the required functions that form the basis for implementation are explained in detail. Please refer to their definitions in order to understand how they work and combine into together.\n"
   ]
  },
  {
   "cell_type": "markdown",
   "metadata": {},
   "source": [
    "Let us testing our implementation by constructing a regression tree of depth 3. Below you can observe the initial r-squared score for the regression tree of depth 3 that we have constructed. We observe that the resulting r-squared scores are satisfactory."
   ]
  },
  {
   "cell_type": "code",
   "execution_count": 24,
   "metadata": {
    "scrolled": true
   },
   "outputs": [
    {
     "data": {
      "image/png": "[encoded data removed]",
      "text/plain": [
       "<Figure size 432x288 with 1 Axes>"
      ]
     },
     "metadata": {
      "needs_background": "light"
     },
     "output_type": "display_data"
    }
   ],
   "source": [
    "\"\"\"\n",
    "Initialization and training of an initial regression tree for testing the implementation and r-squared values.\n",
    "\"\"\"\n",
    "initial_tree = train_tree(training_data,1,3)\n",
    "yTrainPredicted_Init, yTest_Predicted_Init = predict(initial_tree,training_data) ,predict(initial_tree,test_data)\n",
    "r2_plots([r2_score(yTrain,yTrainPredicted_Init)],[r2_score(yTest,yTest_Predicted_Init)],[3])"
   ]
  },
  {
   "cell_type": "markdown",
   "metadata": {},
   "source": [
    "### 2.4 Visualization of Tree\n",
    "<img src=\"tree.png\">"
   ]
  },
  {
   "cell_type": "markdown",
   "metadata": {},
   "source": [
    "## Task 3: Evaluation"
   ]
  },
  {
   "cell_type": "markdown",
   "metadata": {},
   "source": [
    "### 3.1 Cross Validation\n",
    "Now it is time to pick the best maximum depth for our dataset by using 5-fold cross validation. The general cross validation procedure works as follows:\n",
    "\n",
    "1. Split the data into 5.\n",
    "2. Iteratively construct a decision tree where one fold is used as the test data, and the rest is the training data.\n",
    "3. Calculate the r-squared values for each regression trees.\n",
    "4. Return the average of r-squared values and the standard deviation of r-squared values that are obtained by the trained regression trees.\n",
    "\n",
    "In our case, we conduct cross validation for the maximum depth levels of [3,10] and report the mean of r-squared values and standard deviation for each depth, and finally pick the best one."
   ]
  },
  {
   "cell_type": "code",
   "execution_count": 25,
   "metadata": {},
   "outputs": [
    {
     "data": {
      "image/png": "[encoded data removed]",
      "text/plain": [
       "<Figure size 432x288 with 2 Axes>"
      ]
     },
     "metadata": {
      "needs_background": "light"
     },
     "output_type": "display_data"
    }
   ],
   "source": [
    "\"\"\"\n",
    "Cross validation for the depth levels given below.\n",
    "\"\"\"\n",
    "depth_levels = [3,4,5,6,7,8,9,10]\n",
    "b_depth,mean_r2,std_r2 = cross_validation(data=training_data,s=5,depths=depth_levels)\n",
    "cross_validation_plot(depth_levels,mean_r2,std_r2)"
   ]
  },
  {
   "cell_type": "markdown",
   "metadata": {},
   "source": [
    "### 3.2 Final Tree\n",
    "Given that the cross validation algorithm has returned the best maximum depth for our dataset, we are ready to construct the final tree that we figure out to be the best. Below you can see the plot for r-squared score for the training and test data predictions of the final regression tree."
   ]
  },
  {
   "cell_type": "code",
   "execution_count": 26,
   "metadata": {},
   "outputs": [
    {
     "data": {
      "image/png": "[encoded data removed]",
      "text/plain": [
       "<Figure size 432x288 with 1 Axes>"
      ]
     },
     "metadata": {
      "needs_background": "light"
     },
     "output_type": "display_data"
    }
   ],
   "source": [
    "\"\"\"\n",
    "The final regression tree that is constructed by the maximum depth value returned by cross validation.\n",
    "\"\"\"\n",
    "final_tree = train_tree(training_data,1,b_depth)\n",
    "yTrain_Predicted_Final, yTest_Predicted_Final = predict(final_tree,training_data), predict(final_tree,test_data)\n",
    "r2_plots([r2_score(yTrain,yTrain_Predicted_Final)],[r2_score(yTest,yTest_Predicted_Final)],[b_depth])"
   ]
  },
  {
   "cell_type": "markdown",
   "metadata": {},
   "source": [
    "## Appendix\n",
    "\n",
    "This section provides the extra work done that are not explicitly asked in the context of project."
   ]
  },
  {
   "cell_type": "markdown",
   "metadata": {},
   "source": [
    "### A.1\n",
    "In section `3.1 Cross Validation`, the algorithm provides the best maximum depth that yields the best r-squared scores for test data. However, by further observations, I have experienced that since our dataset is relatively small and noisy, the training folds that are used in cross validation may not represent the entire data set characteristics successfully. \n",
    "\n",
    "Below, you can see the r-squared values for regression trees trained based on the maximum depth limit of [3,10]. However, we should still stick into the general procedures in machine learning applications by taking the best maximum depth as the one returned by cross validation."
   ]
  },
  {
   "cell_type": "code",
   "execution_count": 27,
   "metadata": {},
   "outputs": [
    {
     "data": {
      "image/png": "[encoded data removed]",
      "text/plain": [
       "<Figure size 432x288 with 1 Axes>"
      ]
     },
     "metadata": {
      "needs_background": "light"
     },
     "output_type": "display_data"
    }
   ],
   "source": [
    "\"\"\"\n",
    "R-squared analysis for the regression trees constructed by all depth values.\n",
    "\"\"\"\n",
    "r2_training, r2_test = list(),list()\n",
    "for depth in depth_levels:\n",
    "    tree = train_tree(training_data,1,depth)\n",
    "    yTrain_Predicted = predict(tree, training_data)\n",
    "    yTest_Predicted = predict(tree, test_data)\n",
    "    r2_training.append(r2_score(yTrain,yTrain_Predicted))\n",
    "    r2_test.append(r2_score(yTest, yTest_Predicted))\n",
    "r2_plots(r2_training,r2_test,depth_levels)"
   ]
  },
  {
   "cell_type": "markdown",
   "metadata": {},
   "source": [
    "# References"
   ]
  },
  {
   "cell_type": "markdown",
   "metadata": {},
   "source": [
    "The reference for conceptual information:\n",
    "* https://en.wikipedia.org/wiki/Decision_tree_learning\n",
    "\n",
    "The reference which gave me the idea of implementing the tree by using a dictionary based representation of nodes:\n",
    "* https://machinelearningmastery.com/implement-decision-tree-algorithm-scratch-python/ "
   ]
  }
 ],
 "metadata": {
  "kernelspec": {
   "display_name": "Python 3",
   "language": "python",
   "name": "python3"
  },
  "language_info": {
   "codemirror_mode": {
    "name": "ipython",
    "version": 3
   },
   "file_extension": ".py",
   "mimetype": "text/x-python",
   "name": "python",
   "nbconvert_exporter": "python",
   "pygments_lexer": "ipython3",
   "version": "3.7.6"
  }
 },
 "nbformat": 4,
 "nbformat_minor": 4
}
