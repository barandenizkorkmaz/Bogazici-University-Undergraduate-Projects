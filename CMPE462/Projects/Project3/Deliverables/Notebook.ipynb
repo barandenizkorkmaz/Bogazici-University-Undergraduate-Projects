{
 "cells": [
  {
   "cell_type": "markdown",
   "metadata": {},
   "source": [
    "<h1><center>CMPE 462 - Project 3 <br>Implementing K-Means & PCA</center></h1>"
   ]
  },
  {
   "cell_type": "markdown",
   "metadata": {},
   "source": [
    "# BetaZero\n",
    "\n",
    "1. Baran Deniz Korkmaz - 2015400183\n",
    "2. Doğukan Kalkan - 2015400132"
   ]
  },
  {
   "cell_type": "markdown",
   "metadata": {},
   "source": [
    "# Imported Packages\n",
    "This section introduces the imported packages, as they are the initial requirements for the implementation."
   ]
  },
  {
   "cell_type": "code",
   "execution_count": 1,
   "metadata": {},
   "outputs": [],
   "source": [
    "import numpy as np\n",
    "import matplotlib.pyplot as plt\n",
    "import scipy.io as sp\n",
    "import numpy.linalg as linalg"
   ]
  },
  {
   "cell_type": "markdown",
   "metadata": {},
   "source": [
    "# Auxiliary Resources\n",
    "This section contains the auxiliary functions that we utilize for the implementation."
   ]
  },
  {
   "cell_type": "markdown",
   "metadata": {},
   "source": [
    "# 1. K-Means Resources\n",
    "This section introduces the auxiliary functions that we use in the implementation of K-Means Algorithm."
   ]
  },
  {
   "cell_type": "markdown",
   "metadata": {},
   "source": [
    "## a.k_means(data,k,N):\n",
    "Description: Performs a K-Means Clustering for the given data.\n",
    "\n",
    "Parameters:\n",
    "1. data: The data.\n",
    "2. k: The number of clusters\n",
    "3. N: The maximum number of iterations.\n",
    "\n",
    "Implementation Details: Starts with initializing the centroids. Reassigns all the data points to the correct clusters and recomputes the centroids. \n",
    "\n",
    "Return Values: \n",
    "1. centroids: A list of center points\n",
    "2. labels: A list that contains the cluster numbers for data points."
   ]
  },
  {
   "cell_type": "code",
   "execution_count": 2,
   "metadata": {},
   "outputs": [],
   "source": [
    "def k_means(data,k,N):\n",
    "    np.random.seed(1)\n",
    "    x_min, x_max, y_min, y_max = get_range(data)\n",
    "    centroids = get_initial_centroids(k,x_min,x_max,y_min,y_max)\n",
    "    labels = list()\n",
    "    for i in range(N):\n",
    "        labels = get_clusters(data,centroids)\n",
    "        centroids = get_centroids(k,data,labels)\n",
    "    return centroids, labels"
   ]
  },
  {
   "cell_type": "markdown",
   "metadata": {},
   "source": [
    "## b.get_range(data):\n",
    "Description: An auxiliary function to determine the range for the initialization of centroids in K-Means Algorithm.\n",
    "\n",
    "Parameters:\n",
    "1. data: The data\n",
    "\n",
    "Implementation Details: Takes the data, and finds the minimum and maximum coordinates of all the data points.\n",
    "\n",
    "Return Values: \n",
    "1. x_min: The minimum value of x coordinates. \n",
    "2. x_max: The maximum value of x coordinates.\n",
    "3. y_min: The minimum value of y coordinates.\n",
    "4. y_max: The maximum value of y coordinates."
   ]
  },
  {
   "cell_type": "code",
   "execution_count": 3,
   "metadata": {},
   "outputs": [],
   "source": [
    "def get_range(data):\n",
    "    data_t = np.transpose(data)\n",
    "    x_min, x_max = min(data_t[0]),max(data_t[0])\n",
    "    y_min, y_max = min(data_t[1]),max(data_t[1])\n",
    "    return x_min, x_max, y_min, y_max"
   ]
  },
  {
   "cell_type": "markdown",
   "metadata": {},
   "source": [
    "## c.get_initial_centroids(k,x_min,x_max,y_min,y_max):\n",
    "Description: Determines the initial centroids for K-Means.\n",
    "\n",
    "Parameters:\n",
    "1. k: The number of clusters\n",
    "2. x_min: The minimum value of x coordinates. \n",
    "3. x_max: The maximum value of x coordinates.\n",
    "4. y_min: The minimum value of y coordinates.\n",
    "5. y_max: The maximum value of y coordinates.\n",
    "\n",
    "Implementation Details: Creates k centroids whose x coordinates and y coordinates are randomly determined. The x coordinates are between x_min and x_max and the y coordinates are between y_min and y_max to regularize the initial centroids.\n",
    "\n",
    "Return Values:\n",
    "1. centroids: A list of center points"
   ]
  },
  {
   "cell_type": "code",
   "execution_count": 4,
   "metadata": {},
   "outputs": [],
   "source": [
    "def get_initial_centroids(k,x_min,x_max,y_min,y_max):\n",
    "    centroids = []\n",
    "    for i in range(k):\n",
    "        x = np.random.uniform(x_min, x_max)\n",
    "        y = np.random.uniform(y_min, y_max)\n",
    "        centroids.append((x,y))\n",
    "    return centroids"
   ]
  },
  {
   "cell_type": "markdown",
   "metadata": {},
   "source": [
    "## d.get_clusters(data,centroids):\n",
    "Description: Determines the cluster number for each data point\n",
    "\n",
    "Parameters:\n",
    "1. data: The data\n",
    "2. centroids: A list of centroids\n",
    "\n",
    "Implementation Details: Calculates the Euclidean distance of each point to all the centroids and puts the data point into the cluster whose centroid is the centroid to which the data points is closest.\n",
    "\n",
    "Return Values: \n",
    "1. labels:  A list that contains the cluster numbers for data points."
   ]
  },
  {
   "cell_type": "code",
   "execution_count": 5,
   "metadata": {},
   "outputs": [],
   "source": [
    "def get_clusters(data,centroids):\n",
    "    labels = list()\n",
    "    for point in data:\n",
    "        distance = list()\n",
    "        for centroid in centroids:\n",
    "            distance.append(linalg.norm(np.array(point)-np.array(centroid)))\n",
    "        class_number = distance.index(min(distance))\n",
    "        labels.append(class_number)\n",
    "    return labels"
   ]
  },
  {
   "cell_type": "markdown",
   "metadata": {},
   "source": [
    "## e.get_centroids(k,data,labels):\n",
    "Description: Recomputes the centroids of each cluster.\n",
    "\n",
    "Parameters:\n",
    "1. k: The maximum number of iterations.\n",
    "2. data: The data\n",
    "3. labels: A list that contains the cluster numbers for data points.\n",
    "\n",
    "\n",
    "Implementation Details: Calculates the average point in each cluster and makes it the centroid of that cluster.\n",
    "\n",
    "Return Values: \n",
    "1. centroids: A list of new center points."
   ]
  },
  {
   "cell_type": "code",
   "execution_count": 6,
   "metadata": {},
   "outputs": [],
   "source": [
    "def get_centroids(k,data,labels):\n",
    "    centroids = list()\n",
    "    counts = np.zeros(k)\n",
    "    for i in range(k):\n",
    "        centroids.append((0.0,0.0))\n",
    "    for point, y in zip(data, labels):\n",
    "        tmp = list(centroids[y])\n",
    "        tmp[0] += point[0]\n",
    "        tmp[1] += point[1]\n",
    "        centroids[y] = (tmp[0],tmp[1])\n",
    "        counts[y] += 1\n",
    "    for i in range(len(centroids)):\n",
    "        tmp = list(centroids[i])\n",
    "        tmp[0] = tmp[0] /counts[i]\n",
    "        tmp[1] = tmp[1] / counts[i]\n",
    "        centroids[i] = (tmp[0],tmp[1])\n",
    "    return centroids"
   ]
  },
  {
   "cell_type": "markdown",
   "metadata": {},
   "source": [
    "# 2. PCA Resources\n",
    "This section introduces the auxiliary functions that we use in the implementation of PCA Algorithm."
   ]
  },
  {
   "cell_type": "markdown",
   "metadata": {},
   "source": [
    "## a. standardize(data)\n",
    "Description: Standardizes the given data.\n",
    "\n",
    "Parameters:\n",
    "1. data: Training data to be standardized.\n",
    "\n",
    "Implementation Details: The function utilizes `numpy` package for mean and standard devation computations.\n",
    "\n",
    "Return Values: \n",
    "1. data: Standardized Data"
   ]
  },
  {
   "cell_type": "code",
   "execution_count": 7,
   "metadata": {},
   "outputs": [],
   "source": [
    "def standardize(data):\n",
    "    data_t = np.transpose(data)\n",
    "    for i,row in enumerate(data_t):\n",
    "        mean = np.mean(row)\n",
    "        stdev = np.std(row)\n",
    "        for j,elem in enumerate(row):\n",
    "            new_elem = (elem-mean)/stdev\n",
    "            data[j][i] = new_elem\n",
    "    return data"
   ]
  },
  {
   "cell_type": "markdown",
   "metadata": {},
   "source": [
    "## b. get_eigen_vectors(data)\n",
    "Description: Returns the eigenvectors of the covariance matrix computed by the given data in sorted order in terms of the magnitude of eigenvalues.\n",
    "\n",
    "Parameters:\n",
    "1. data: Training data\n",
    "\n",
    "Implementation Details: The function utilizes auxiliary functions to standardize the provided training data and to compute covariance matrix. The package `linalg` is used to compute the eigenvectors of covariance matrix. The matrix of eigenvectors sorted by the eigenvalues is returned. \n",
    "\n",
    "Return Values: \n",
    "1. 2D Matrix of Eigenvectors sorted by the magnitude of corresponding eigenvalues."
   ]
  },
  {
   "cell_type": "code",
   "execution_count": 8,
   "metadata": {},
   "outputs": [],
   "source": [
    "def get_eigen_vectors(data):\n",
    "    standardized_pca_data_x = standardize(data)\n",
    "    covariance_matrix = np.transpose(standardized_pca_data_x).dot(np.array(standardized_pca_data_x))*(1.0/len(standardized_pca_data_x))\n",
    "\n",
    "    results = linalg.eig(covariance_matrix)\n",
    "\n",
    "    eigen_values = results[0]\n",
    "    eigen_vectors = results[1]\n",
    "\n",
    "    eigen_dict = {k: v for v, k in enumerate(eigen_values)}\n",
    "    sorted_eigen_values = sorted(eigen_values,reverse=True)\n",
    "\n",
    "    pc_matrix = []\n",
    "\n",
    "    for eigen_value in sorted_eigen_values:\n",
    "        eigen_index = eigen_dict[eigen_value]\n",
    "        pc_matrix.append(eigen_vectors[:,eigen_index])\n",
    "\n",
    "    return np.transpose(pc_matrix)"
   ]
  },
  {
   "cell_type": "markdown",
   "metadata": {},
   "source": [
    "## c. get_transformation_matrices(eigen_vectors, d)\n",
    "Description: Returns the list transformation matrices for corresponding dimensions provided in the list d.\n",
    "\n",
    "Parameters:\n",
    "1. eigen_vectors: 2D Matrix of Eigenvectors sorted by the magnitude of corresponding eigenvalues.\n",
    "2. d: List of separate dimensions.\n",
    "\n",
    "Return Values: \n",
    "1. transformation_matrices: List of 2D transformation matrices."
   ]
  },
  {
   "cell_type": "code",
   "execution_count": 9,
   "metadata": {},
   "outputs": [],
   "source": [
    "def get_transformation_matrices(eigen_vectors, d):\n",
    "    transformation_matrices = []\n",
    "    for current_d in d:\n",
    "        transformation_matrices.append(eigen_vectors[:,0:current_d])\n",
    "    return transformation_matrices"
   ]
  },
  {
   "cell_type": "markdown",
   "metadata": {},
   "source": [
    "## d. pca(data,d)\n",
    "Description: Returns the transformation matrices of the dimensions provided by the dimensionality list, d. \n",
    "\n",
    "Parameters:\n",
    "1. data: Training data\n",
    "2. d: List of separate dimensions.\n",
    "\n",
    "Implementation Details: The function utilizes auxiliary function in order to compute eigen vectors of covariance matrix constucted using the data and to return the transformation matrices constructed by first d eigenvectors (principal components) corresponding into the elements provided in the list d.\n",
    "\n",
    "Return Values: \n",
    "1. Transformation matrices for each dimension provided in the list d."
   ]
  },
  {
   "cell_type": "code",
   "execution_count": 10,
   "metadata": {},
   "outputs": [],
   "source": [
    "def pca(data, d):\n",
    "    eigen_vectors = get_eigen_vectors(data)\n",
    "    return get_transformation_matrices(eigen_vectors, d)"
   ]
  },
  {
   "cell_type": "markdown",
   "metadata": {},
   "source": [
    "## e. transform_data(data, transformation_matrices)\n",
    "Description: Returns the reconstructed matrices by applying transformation for each transformation matrix in the list `transformation_matrices` onto the original data.\n",
    "\n",
    "Parameters:\n",
    "1. data: Training data\n",
    "2. transformation_matrices: List of 2D transformation matrices.\n",
    "\n",
    "Return Values: \n",
    "1. reconstructed_matrices: List of reconstructed/transformed data matrices."
   ]
  },
  {
   "cell_type": "code",
   "execution_count": 11,
   "metadata": {},
   "outputs": [],
   "source": [
    "def transform_data(data, transformation_matrices):\n",
    "    reconstructed_matrices = []\n",
    "    for G in transformation_matrices:\n",
    "        reconstructed_matrices.append(np.transpose(G.dot(np.transpose(G).dot(np.transpose(data)))))\n",
    "    return reconstructed_matrices"
   ]
  },
  {
   "cell_type": "markdown",
   "metadata": {},
   "source": [
    "# 3. Plotting Resources\n",
    "This section introduces the auxiliary functions that we use to plot tables and charts."
   ]
  },
  {
   "cell_type": "code",
   "execution_count": 12,
   "metadata": {},
   "outputs": [],
   "source": [
    "color = ['r','b','g']\n",
    "marker = ['o','o','o']"
   ]
  },
  {
   "cell_type": "markdown",
   "metadata": {},
   "source": [
    "## a.scatter_plot_util(data,labels,ax):\n",
    "Description: A scatter plot function to display the results of K-Means Clusters.\n",
    "\n",
    "Parameters:\n",
    "1. data: The data\n",
    "2. labels: A list that contains the cluster numbers for data points.\n",
    "3. ax: A subplot.\n",
    "\n",
    "Implementation Details: Sorts the labels which contain the cluster numbers for data points and gives a different color for data points belonging to different clusters and displays it.\n",
    "\n",
    "Return Values: "
   ]
  },
  {
   "cell_type": "code",
   "execution_count": 13,
   "metadata": {},
   "outputs": [],
   "source": [
    "def scatter_plot_util(data,labels,ax):\n",
    "    distinct_labels = sorted(list(set(labels)))\n",
    "    scatter_data = []\n",
    "    for i in range(len(distinct_labels)):\n",
    "        scatter_data.append([])\n",
    "        for j in range(2):\n",
    "            scatter_data[i].append([])\n",
    "    for X,Y in zip(data,labels):\n",
    "        class_index = distinct_labels.index(Y)\n",
    "        scatter_data[class_index][0].append(X[0])\n",
    "        scatter_data[class_index][1].append(X[1])\n",
    "    for i in range(len(distinct_labels)):\n",
    "        ax.scatter(scatter_data[i][0],scatter_data[i][1],c=color[i],marker=marker[i],label='Class ' + str(distinct_labels[i]))"
   ]
  },
  {
   "cell_type": "markdown",
   "metadata": {},
   "source": [
    "## b. information_loss_plot(information_loss,d)\n",
    "Description: Plots the information loss versus dimension plots.\n",
    "\n",
    "Parameters:\n",
    "1. information_loss: List of information loss values.\n",
    "2. d: List of dimensions."
   ]
  },
  {
   "cell_type": "code",
   "execution_count": 14,
   "metadata": {},
   "outputs": [],
   "source": [
    "def information_loss_plot(information_loss,d):\n",
    "    information_loss_rounded = [round(elem,3) for elem in information_loss]\n",
    "    x = np.arange(len(d))  # the label locations\n",
    "    width = 0.5  # the width of the bars\n",
    "    fig, ax = plt.subplots()\n",
    "    rects1 = ax.bar(x, information_loss_rounded, width, label='Information Loss')\n",
    "    ax.set_ylabel('Information Loss')\n",
    "    ax.set_xlabel('d: New Dimensionality')\n",
    "    ax.set_title('Information Loss vs d (New Dimensionality)')\n",
    "    ax.set_xticks(x)\n",
    "    ax.set_xticklabels(d)\n",
    "    ax.legend()\n",
    "    autolabel(rects1, ax)\n",
    "    fig.tight_layout()\n",
    "    plt.show()"
   ]
  },
  {
   "cell_type": "markdown",
   "metadata": {},
   "source": [
    "## c. autolabel(rects,ax):\n",
    "Description: Puts the y value on top of each bar.\n",
    "\n",
    "Parameters:\n",
    "1. rects: Bars.\n",
    "2. ax: A plot."
   ]
  },
  {
   "cell_type": "code",
   "execution_count": 15,
   "metadata": {},
   "outputs": [],
   "source": [
    "# REFERENCE: https://matplotlib.org/3.2.1/gallery/lines_bars_and_markers/barchart.html#sphx-glr-gallery-lines-bars-and-markers-barchart-py\n",
    "def autolabel(rects,ax):\n",
    "    \"\"\"Attach a text label above each bar in *rects*, displaying its height.\"\"\"\n",
    "    for rect in rects:\n",
    "        height = rect.get_height()\n",
    "        ax.annotate('{}'.format(height),\n",
    "                    xy=(rect.get_x() + rect.get_width() / 2, height),\n",
    "                    xytext=(0, 3),  # 3 points vertical offset\n",
    "                    textcoords=\"offset points\",\n",
    "                    ha='center', va='bottom')"
   ]
  },
  {
   "cell_type": "markdown",
   "metadata": {},
   "source": [
    "# Introduction"
   ]
  },
  {
   "cell_type": "markdown",
   "metadata": {},
   "source": [
    "The project aims to present a theoretical and practical basis for two fundamental unsupervised learning algorithms, k-means clustering and principal component analysis. In the notebook, the reader will be largely provided by practical applications and approaches. Please refer to the project report for detailed explanations about theoretical aspects."
   ]
  },
  {
   "cell_type": "markdown",
   "metadata": {},
   "source": [
    "# Task 1: K-Means Clustering\n",
    "K-means Clustering is a unsupervised learning technique in which the data is divided into K clusters each of which has a centroid(i.e. center point). The data points in the data set are assigned to the cluster whose centroid is the closest centroid to those points. \n",
    "For detailed explanation, please refer to the report."
   ]
  },
  {
   "cell_type": "markdown",
   "metadata": {},
   "source": [
    "We start with loading our data set and corresponding labels."
   ]
  },
  {
   "cell_type": "code",
   "execution_count": 16,
   "metadata": {},
   "outputs": [],
   "source": [
    "N = [1,2,3,4,5,6,7,8,9]\n",
    "\n",
    "kmeans_data = np.load(\"data.npy\")\n",
    "kmeans_labels = np.load(\"label.npy\")"
   ]
  },
  {
   "cell_type": "markdown",
   "metadata": {},
   "source": [
    "## Task 1.1: Plot Clusters\n",
    "In this section, we just plot the data that is loaded above."
   ]
  },
  {
   "cell_type": "code",
   "execution_count": 17,
   "metadata": {},
   "outputs": [
    {
     "data": {
      "image/png": "[encoded data removed]",
      "text/plain": [
       "<Figure size 432x288 with 1 Axes>"
      ]
     },
     "metadata": {
      "needs_background": "light"
     },
     "output_type": "display_data"
    }
   ],
   "source": [
    "# 1.1\n",
    "fig = plt.figure()\n",
    "ax = fig.add_subplot(111)\n",
    "scatter_plot_util(kmeans_data,kmeans_labels,ax)\n",
    "ax.set_title(\"Scatter Plot: Clusters (Ground Truth)\")\n",
    "ax.legend(loc='lower left')\n",
    "plt.show()"
   ]
  },
  {
   "cell_type": "markdown",
   "metadata": {},
   "source": [
    "## Task 1.2: K-Means Implementation\n",
    "In this section, we just run our function, k_means with the maximum number of iterations, N=12 and the number of cluster, k=3.\n"
   ]
  },
  {
   "cell_type": "code",
   "execution_count": 18,
   "metadata": {},
   "outputs": [
    {
     "data": {
      "image/png": "[encoded data removed]",
      "text/plain": [
       "<Figure size 432x288 with 1 Axes>"
      ]
     },
     "metadata": {
      "needs_background": "light"
     },
     "output_type": "display_data"
    }
   ],
   "source": [
    "# 1.2\n",
    "# RUN K-MEANS FOR N=12\n",
    "_,cluster_labels = k_means(kmeans_data,k=3,N=12)\n",
    "# PLOT\n",
    "fig = plt.figure()\n",
    "ax = fig.add_subplot(111)\n",
    "scatter_plot_util(kmeans_data,cluster_labels,ax)\n",
    "ax.set_title(\"Scatter Plot: Clusters (Max. Iteration = 12)\")\n",
    "ax.legend(loc='lower left')\n",
    "plt.show()"
   ]
  },
  {
   "cell_type": "markdown",
   "metadata": {},
   "source": [
    "## Taks 1.3: Evaluation\n",
    "In this section, we run our algorithm with different number of iterations, N = 1,2,3...,9 and display the results in a 3x3 plot. \n"
   ]
  },
  {
   "cell_type": "code",
   "execution_count": 19,
   "metadata": {},
   "outputs": [
    {
     "data": {
      "image/png": "[encoded data removed]",
      "text/plain": [
       "<Figure size 432x288 with 9 Axes>"
      ]
     },
     "metadata": {
      "needs_background": "light"
     },
     "output_type": "display_data"
    }
   ],
   "source": [
    "# 1.3\n",
    "fig = plt.figure()\n",
    "plt.suptitle(\"Scatter Plot: Clusters vs Max. Iterations\")\n",
    "for i,max_iter in enumerate(N):\n",
    "    ax = fig.add_subplot(3,3,i+1)\n",
    "    _,cluster_labels = k_means(kmeans_data,k=3,N=max_iter)\n",
    "    scatter_plot_util(kmeans_data,cluster_labels,ax)\n",
    "    ax.set_title(\"N = \" + str(max_iter))\n",
    "    if i==len(N)-1:\n",
    "        handles, legend_labels = ax.get_legend_handles_labels()\n",
    "        fig.legend(handles, legend_labels, loc='lower left')\n",
    "plt.show()"
   ]
  },
  {
   "cell_type": "markdown",
   "metadata": {},
   "source": [
    "Observing the figure above, the convergence is satisfied for N=4, that is, the final solution is obtained when the K-means clustering algorithm has run for 4 times."
   ]
  },
  {
   "cell_type": "markdown",
   "metadata": {},
   "source": [
    "# Task 2: Principal Component Analysis (PCA)\n"
   ]
  },
  {
   "cell_type": "markdown",
   "metadata": {},
   "source": [
    "Principal component analysis is a fundamental dimensionality reduction algorithm. The principal component analysis takes advantage of linear algebra, by extracting the eigenvectors provided by the covariance matrix of the training data set. The algorithm aims at preserving the significant information presented in terms of variance.\n",
    "\n",
    "Initially, we import our dataset provided by `USPS.mat` using `loadmat`. The `USPS` data set consists of 3000 images of 256 pixels, resulting in a 2-dimensional matrix of size 3000*256 ."
   ]
  },
  {
   "cell_type": "code",
   "execution_count": 20,
   "metadata": {},
   "outputs": [],
   "source": [
    "#\n",
    "# TASK 2: PCA\n",
    "#\n",
    "pca_data = sp.loadmat(\"USPS.mat\")\n",
    "pca_data_x = pca_data['A']\n",
    "pca_data_y = pca_data['L']"
   ]
  },
  {
   "cell_type": "markdown",
   "metadata": {},
   "source": [
    "## Task 2.1: PCA Implementation\n"
   ]
  },
  {
   "cell_type": "markdown",
   "metadata": {},
   "source": [
    "In this section, we implement the pca algorithm. Please refer to the section `Auxiliary Resources` for the implementation of pca algorithm. Plus, further information will be provided in the report.\n",
    "\n",
    "Let us introduce the pseudocode for PCA algorithm as follows:\n",
    "\n",
    "1. Main Step: Extraction of Principal Components:\n",
    "\n",
    "    1.1 Standardize the data set $X \\in R^{N*p}$\n",
    "    \n",
    "    1.2 Form the covariance matrix.\n",
    "    \n",
    "    1.3 Compute the eigenvectors of covariance matrix.\n",
    "    \n",
    "    1.4 Use first d eigenvectors with largest d eigenvalues.\n",
    "    \n",
    "    1.5 Form the transformation matrix.\n",
    "    \n",
    "2. Apply transformation onto the original data set to obtain reconstructed matrix.\n",
    "\n",
    "Please notice that, the implementation of pca algorithm intentionally does differ practically, but not theoretically from the procedure stated above. Our goal is to make just one pca call for a given list of dimensions in order to save runtime. Therefore, our practical implementation slightly differs which does not cause any deviation from the theory. More explicitly, instead of taking a single dimension value as parameter, our implementation takes a list of dimensions, and returns the corresponding transformation matrices by computing the eigenvectors only once."
   ]
  },
  {
   "cell_type": "code",
   "execution_count": 21,
   "metadata": {},
   "outputs": [],
   "source": [
    "#\n",
    "# TASK 2.1\n",
    "#\n",
    "d = [50, 100, 200]\n",
    "transformation_matrices = pca(pca_data_x, d)"
   ]
  },
  {
   "cell_type": "markdown",
   "metadata": {},
   "source": [
    "## Task 2.2: Image Reconstruction\n"
   ]
  },
  {
   "cell_type": "markdown",
   "metadata": {},
   "source": [
    "In this section we apply the transformation onto the original data by the transformation matrices derived from PCA. The rows of each matrices consists of images of d pixels where d is a predetermined hyperparameter, standing for the number of features extracted."
   ]
  },
  {
   "cell_type": "code",
   "execution_count": 22,
   "metadata": {},
   "outputs": [],
   "source": [
    "#\n",
    "# TASK 2.2\n",
    "#\n",
    "reconstructed_matrices = transform_data(pca_data_x, transformation_matrices)"
   ]
  },
  {
   "cell_type": "markdown",
   "metadata": {},
   "source": [
    "## Task 2.3: Evaluation\n"
   ]
  },
  {
   "cell_type": "markdown",
   "metadata": {},
   "source": [
    "This section provides the evaluation of PCA implementation by analyzing the reconstructed images varying per changing number of features extracted."
   ]
  },
  {
   "cell_type": "code",
   "execution_count": 23,
   "metadata": {},
   "outputs": [
    {
     "data": {
      "image/png": "[encoded data removed]",
      "text/plain": [
       "<Figure size 432x288 with 16 Axes>"
      ]
     },
     "metadata": {
      "needs_background": "light"
     },
     "output_type": "display_data"
    }
   ],
   "source": [
    "#\n",
    "# TASK 2.3\n",
    "#\n",
    "image_indices = [0, 500, 1000, 2000]\n",
    "\n",
    "fig = plt.figure()\n",
    "plt.suptitle(\"Reconstructed Images\")\n",
    "for i,image_index in enumerate(image_indices):\n",
    "    for j,reconstructed_matrix in enumerate(reconstructed_matrices):\n",
    "        ax = fig.add_subplot(4,4,i*4+j+1)\n",
    "        ax.imshow(reconstructed_matrix[image_index].reshape(16,16))\n",
    "        ax.set_title('d = ' + str(d[j]))\n",
    "        ax.set_ylabel('i = ' + str(image_index))\n",
    "        ax.set_yticklabels([])\n",
    "        ax.set_xticklabels([])\n",
    "    ax = fig.add_subplot(4,4,4*(i+1))\n",
    "    ax.imshow(pca_data_x[image_index].reshape(16,16))\n",
    "    ax.set_title('Raw Image')\n",
    "    ax.set_ylabel('i = ' + str(image_index))\n",
    "    ax.set_yticklabels([])\n",
    "    ax.set_xticklabels([])\n",
    "plt.show()"
   ]
  },
  {
   "cell_type": "markdown",
   "metadata": {},
   "source": [
    "Observing the figures above, we conclude that our experimental results are compatible with theoretical expectations. As the number of features used in transformation increases, the information loss diminishes. Above, we see that as we move towards the direction in increasing d, the blur within the images decreases, approaching into the original raw image. Hence, we can conclude that our practical observations are valid."
   ]
  },
  {
   "cell_type": "markdown",
   "metadata": {},
   "source": [
    "## Appendix"
   ]
  },
  {
   "cell_type": "markdown",
   "metadata": {},
   "source": [
    "### A1. Analysis of Information Loss"
   ]
  },
  {
   "cell_type": "markdown",
   "metadata": {},
   "source": [
    "This section provides an extra work on the analysis of information loss by changing new dimension reduced. The computation is based on the difference between the original data matrix and reconstructed matrix per dimension."
   ]
  },
  {
   "cell_type": "code",
   "execution_count": 24,
   "metadata": {
    "scrolled": false
   },
   "outputs": [
    {
     "data": {
      "image/png": "[encoded data removed]",
      "text/plain": [
       "<Figure size 432x288 with 1 Axes>"
      ]
     },
     "metadata": {
      "needs_background": "light"
     },
     "output_type": "display_data"
    }
   ],
   "source": [
    "information_loss = list()\n",
    "for current_d,reconstructed_matrix in zip(d,reconstructed_matrices):\n",
    "    information_loss.append(linalg.norm(pca_data_x - reconstructed_matrix,ord='fro')**2)\n",
    "information_loss_plot(information_loss,d)"
   ]
  },
  {
   "cell_type": "markdown",
   "metadata": {},
   "source": [
    "Observing the plot, again, we end up with experimental results that are compatible with our theoretical expectations. As new dimension increases, the information loss becomes smaller."
   ]
  },
  {
   "cell_type": "markdown",
   "metadata": {},
   "source": [
    "## References\n",
    "* Lecture Slides\n",
    "* https://matplotlib.org/3.2.1/gallery/lines_bars_and_markers/barchart.html#sphx-glr-gallery-lines-bars-and-markers-barchart-py\n"
   ]
  }
 ],
 "metadata": {
  "kernelspec": {
   "display_name": "Python 3",
   "language": "python",
   "name": "python3"
  },
  "language_info": {
   "codemirror_mode": {
    "name": "ipython",
    "version": 3
   },
   "file_extension": ".py",
   "mimetype": "text/x-python",
   "name": "python",
   "nbconvert_exporter": "python",
   "pygments_lexer": "ipython3",
   "version": "3.7.6"
  }
 },
 "nbformat": 4,
 "nbformat_minor": 4
}
